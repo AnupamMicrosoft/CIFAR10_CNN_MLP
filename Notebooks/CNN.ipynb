{
 "cells": [
  {
   "cell_type": "markdown",
   "metadata": {},
   "source": [
    "CIFAR-10 contains 60000 labeled for 10 classes images 32x32 in size, train set has 50000 and test set 10000\n",
    "\n",
    "The categories are: airplane, automobile, bird, cat, deer, dog, frog, horse, ship and truck.\n",
    "More information regarding the CIFAR-10 and CIFAR-100 data sets can be found here."
   ]
  },
  {
   "cell_type": "code",
   "execution_count": 1,
   "metadata": {},
   "outputs": [
    {
     "name": "stdout",
     "output_type": "stream",
     "text": [
      "Files already downloaded and verified\n",
      "Files already downloaded and verified\n"
     ]
    }
   ],
   "source": [
    "import torch\n",
    "from torch.autograd import Variable\n",
    "import torch.nn as nn\n",
    "import torch.optim as optim\n",
    "import torchvision.transforms as transforms\n",
    "import torchvision.datasets as datasets\n",
    "import torch.nn.functional as F\n",
    "import numpy as np\n",
    "import torch.utils.data as td\n",
    "import random,time\n",
    "import matplotlib.pyplot as plt\n",
    "num_epochs = 30\n",
    "\n",
    "def cifar_loaders(batch_size, shuffle_test=False): \n",
    "    normalize = transforms.Normalize(mean=[0.485, 0.456, 0.406],\n",
    "                                     std=[0.225, 0.225, 0.225])\n",
    "    train = datasets.CIFAR10('./', train=True, download=True, \n",
    "        transform=transforms.Compose([\n",
    "            transforms.RandomHorizontalFlip(),\n",
    "            transforms.RandomCrop(32, 4),\n",
    "            transforms.ToTensor(),\n",
    "            normalize,\n",
    "        ]))\n",
    "    test = datasets.CIFAR10('./', train=False, \n",
    "        transform=transforms.Compose([transforms.ToTensor(), normalize]))\n",
    "    train_loader = torch.utils.data.DataLoader(train, batch_size=batch_size,\n",
    "        shuffle=True, pin_memory=True)\n",
    "    test_loader = torch.utils.data.DataLoader(test, batch_size=batch_size,\n",
    "        shuffle=shuffle_test, pin_memory=True)\n",
    "    return train_loader, test_loader\n",
    "\n",
    "batch_size = 64\n",
    "test_batch_size = 64\n",
    "input_size = 3072\n",
    "\n",
    "train_loader, _ = cifar_loaders(batch_size)\n",
    "_, test_loader = cifar_loaders(test_batch_size)\n",
    "\n"
   ]
  },
  {
   "cell_type": "code",
   "execution_count": 2,
   "metadata": {},
   "outputs": [],
   "source": [
    "import torch.nn as nn\n",
    "import torch.nn.functional as F\n",
    "\n",
    "class SevenLayerFC_Net(nn.Module):\n",
    "    def __init__(self, D_in,H,D_out):\n",
    "        \"\"\"\n",
    "        In the constructor we instantiate three nn.Linear modules and assign them as\n",
    "        member variables.\n",
    "        \"\"\"\n",
    "        super(SevenLayerFC_Net, self).__init__()\n",
    "        self.linear1 = torch.nn.Linear(D_in, H)\n",
    "        self.linear2 = torch.nn.Linear(H, H)\n",
    "        self.linear3 = torch.nn.Linear(H, H)\n",
    "        self.linear4 = torch.nn.Linear(H, H)\n",
    "        self.linear5 = torch.nn.Linear(H, H)\n",
    "        self.linear6 = torch.nn.Linear(H, H)\n",
    "        self.linear7 = torch.nn.Linear(H, D_out)\n",
    "\n",
    "        \n",
    "    def forward(self, x):\n",
    "        \"\"\"\n",
    "        In the forward function we accept a Tensor of input data and we must return\n",
    "        a Tensor of output data. We can use Modules defined in the constructor as\n",
    "        well as arbitrary operators on Tensors.\n",
    "        \"\"\"\n",
    "        x = F.relu(self.linear1(x))\n",
    "        x = F.relu(self.linear2(x))\n",
    "        x = F.relu(self.linear3(x))\n",
    "        x = F.relu(self.linear4(x))\n",
    "        x = F.relu(self.linear5(x))\n",
    "        x = F.relu(self.linear6(x))\n",
    "        x = self.linear7(x)\n",
    "        return F.log_softmax(x)  \n",
    "      "
   ]
  },
  {
   "cell_type": "code",
   "execution_count": 3,
   "metadata": {},
   "outputs": [
    {
     "name": "stderr",
     "output_type": "stream",
     "text": [
      "C:\\Users\\anupams\\AppData\\Local\\Continuum\\anaconda3\\envs\\myenv\\lib\\site-packages\\ipykernel_launcher.py:33: UserWarning: Implicit dimension choice for log_softmax has been deprecated. Change the call to include dim=X as an argument.\n"
     ]
    },
    {
     "name": "stdout",
     "output_type": "stream",
     "text": [
      "Epoch [1/30], Averge Loss:for epoch[1, 2.1157]\n",
      "Epoch [2/30], Averge Loss:for epoch[2, 1.8126]\n",
      "Epoch [3/30], Averge Loss:for epoch[3, 1.6854]\n",
      "Epoch [4/30], Averge Loss:for epoch[4, 1.6224]\n",
      "Epoch [5/30], Averge Loss:for epoch[5, 1.5679]\n",
      "Epoch [6/30], Averge Loss:for epoch[6, 1.5314]\n",
      "Epoch [7/30], Averge Loss:for epoch[7, 1.5056]\n",
      "Epoch [8/30], Averge Loss:for epoch[8, 1.4760]\n",
      "Epoch [9/30], Averge Loss:for epoch[9, 1.4560]\n",
      "Epoch [10/30], Averge Loss:for epoch[10, 1.4384]\n",
      "Epoch [11/30], Averge Loss:for epoch[11, 1.4201]\n",
      "Epoch [12/30], Averge Loss:for epoch[12, 1.4022]\n",
      "Epoch [13/30], Averge Loss:for epoch[13, 1.3893]\n",
      "Epoch [14/30], Averge Loss:for epoch[14, 1.3797]\n",
      "Epoch [15/30], Averge Loss:for epoch[15, 1.3673]\n",
      "Epoch [16/30], Averge Loss:for epoch[16, 1.3551]\n",
      "Epoch [17/30], Averge Loss:for epoch[17, 1.3444]\n",
      "Epoch [18/30], Averge Loss:for epoch[18, 1.3328]\n",
      "Epoch [19/30], Averge Loss:for epoch[19, 1.3240]\n",
      "Epoch [20/30], Averge Loss:for epoch[20, 1.3162]\n",
      "Epoch [21/30], Averge Loss:for epoch[21, 1.3070]\n",
      "Epoch [22/30], Averge Loss:for epoch[22, 1.2982]\n",
      "Epoch [23/30], Averge Loss:for epoch[23, 1.2895]\n",
      "Epoch [24/30], Averge Loss:for epoch[24, 1.2797]\n",
      "Epoch [25/30], Averge Loss:for epoch[25, 1.2700]\n",
      "Epoch [26/30], Averge Loss:for epoch[26, 1.2677]\n",
      "Epoch [27/30], Averge Loss:for epoch[27, 1.2558]\n",
      "Epoch [28/30], Averge Loss:for epoch[28, 1.2504]\n",
      "Epoch [29/30], Averge Loss:for epoch[29, 1.2476]\n",
      "Epoch [30/30], Averge Loss:for epoch[30, 1.2407]\n"
     ]
    }
   ],
   "source": [
    "# N is batch size; D_in is input dimension;\n",
    "# H is hidden dimension; D_out is output dimension.\n",
    "N, D_in, H, D_out = batch_size, input_size, 200, 10\n",
    "num_epochs = 30\n",
    "\n",
    "# Create random Tensors to hold inputs and outputs\n",
    "x = torch.randn(N, D_in)\n",
    "y = torch.randn(N, D_out)\n",
    "\n",
    "# Construct our model by instantiating the class defined above\n",
    "model = SevenLayerFC_Net(D_in, H, D_out)\n",
    "#print(model)\n",
    "\n",
    "# Construct our loss function and an Optimizer. The call to model.parameters()\n",
    "# in the SGD constructor will contain the learnable parameters of the two\n",
    "# nn.Linear modules which are members of the model.\n",
    "criterion = torch.nn.CrossEntropyLoss()\n",
    "optimizer = torch.optim.SGD(model.parameters(), lr=0.01, momentum=0.9)\n",
    "\n",
    "for epoch in range(num_epochs):\n",
    "    avg_loss_epoch = 0\n",
    "    batch_loss = 0\n",
    "    total_batches = 0\n",
    "\n",
    "    for i, (images, labels) in enumerate(train_loader):\n",
    "        # Reshape images to (batch_size, input_size)\n",
    "\n",
    "        images = images.reshape(-1, 32*32*3)            \n",
    "\n",
    "        #print(images.shape)\n",
    "        outputs = model(images)\n",
    "\n",
    "        loss = criterion(outputs, labels)    \n",
    "        \n",
    "        # Backward and optimize\n",
    "        optimizer.zero_grad()\n",
    "        loss.backward()\n",
    "        optimizer.step()   \n",
    "\n",
    "        total_batches += 1     \n",
    "        batch_loss += loss.item()\n",
    "\n",
    "    avg_loss_epoch = batch_loss/total_batches\n",
    "    print ('Epoch [{}/{}], Averge Loss:for epoch[{}, {:.4f}]' \n",
    "                   .format(epoch+1, num_epochs, epoch+1, avg_loss_epoch ))\n",
    "\n"
   ]
  },
  {
   "cell_type": "code",
   "execution_count": 4,
   "metadata": {},
   "outputs": [
    {
     "name": "stderr",
     "output_type": "stream",
     "text": [
      "C:\\Users\\anupams\\AppData\\Local\\Continuum\\anaconda3\\envs\\myenv\\lib\\site-packages\\ipykernel_launcher.py:33: UserWarning: Implicit dimension choice for log_softmax has been deprecated. Change the call to include dim=X as an argument.\n"
     ]
    },
    {
     "name": "stdout",
     "output_type": "stream",
     "text": [
      "Accuracy of the network on the 10000 test images: 53 %\n"
     ]
    }
   ],
   "source": [
    "# Test the Model\n",
    "correct = 0.\n",
    "total = 0.\n",
    "for images, labels in test_loader:\n",
    "    images = images.reshape(-1, 3*32*32)\n",
    "    #print(labels)\n",
    "    outputs_test = model(images)\n",
    "    _, predicted = torch.max(outputs_test.data, 1)\n",
    "    #print(predicted)\n",
    "    total += labels.size(0) \n",
    "    \n",
    "    correct += (predicted == labels).sum().item()\n",
    "    \n",
    "print('Accuracy of the network on the 10000 test images: %d %%' % (     100 * correct / total))\n",
    "       "
   ]
  },
  {
   "cell_type": "code",
   "execution_count": 16,
   "metadata": {},
   "outputs": [
    {
     "name": "stdout",
     "output_type": "stream",
     "text": [
      "817610\n"
     ]
    }
   ],
   "source": [
    "model_parameters = filter(lambda p: p.requires_grad, model.parameters())\n",
    "params = sum([np.prod(p.size()) for p in model_parameters])\n",
    "print(params)"
   ]
  },
  {
   "cell_type": "code",
   "execution_count": 8,
   "metadata": {},
   "outputs": [
    {
     "name": "stdout",
     "output_type": "stream",
     "text": [
      "SevenLayerFC_Net(\n",
      "  (linear1): Linear(in_features=3072, out_features=200, bias=True)\n",
      "  (linear2): Linear(in_features=200, out_features=200, bias=True)\n",
      "  (linear3): Linear(in_features=200, out_features=200, bias=True)\n",
      "  (linear4): Linear(in_features=200, out_features=200, bias=True)\n",
      "  (linear5): Linear(in_features=200, out_features=200, bias=True)\n",
      "  (linear6): Linear(in_features=200, out_features=200, bias=True)\n",
      "  (linear7): Linear(in_features=200, out_features=10, bias=True)\n",
      ")\n"
     ]
    }
   ],
   "source": [
    "print(model)"
   ]
  },
  {
   "cell_type": "code",
   "execution_count": 11,
   "metadata": {},
   "outputs": [],
   "source": [
    "class SevenLayerFC_NoRelu_Net(nn.Module):\n",
    "    def __init__(self, D_in,H,D_out):\n",
    "        \"\"\"\n",
    "        In the constructor we instantiate three nn.Linear modules and assign them as\n",
    "        member variables.\n",
    "        \"\"\"\n",
    "        super(SevenLayerFC_NoRelu_Net, self).__init__()\n",
    "        self.linear1 = torch.nn.Linear(D_in, H)\n",
    "        self.linear2 = torch.nn.Linear(H, H)\n",
    "        self.linear3 = torch.nn.Linear(H, H)\n",
    "        self.linear4 = torch.nn.Linear(H, H)\n",
    "        self.linear5 = torch.nn.Linear(H, H)\n",
    "        self.linear6 = torch.nn.Linear(H, H)\n",
    "        self.linear7 = torch.nn.Linear(H, D_out)\n",
    "\n",
    "        \n",
    "    def forward(self, x):\n",
    "        \"\"\"\n",
    "        In the forward function we accept a Tensor of input data and we must return\n",
    "        a Tensor of output data. We can use Modules defined in the constructor as\n",
    "        well as arbitrary operators on Tensors.\n",
    "        \"\"\"\n",
    "        x = self.linear1(x)\n",
    "        x = self.linear2(x)\n",
    "        x = self.linear3(x)\n",
    "        x = self.linear4(x)\n",
    "        x = self.linear5(x)\n",
    "        x = self.linear6(x)\n",
    "        x = self.linear7(x)\n",
    "        return F.log_softmax(x)  \n",
    "  \n"
   ]
  },
  {
   "cell_type": "code",
   "execution_count": 12,
   "metadata": {},
   "outputs": [
    {
     "name": "stderr",
     "output_type": "stream",
     "text": [
      "C:\\Users\\anupams\\AppData\\Local\\Continuum\\anaconda3\\envs\\myenv\\lib\\site-packages\\ipykernel_launcher.py:30: UserWarning: Implicit dimension choice for log_softmax has been deprecated. Change the call to include dim=X as an argument.\n"
     ]
    },
    {
     "name": "stdout",
     "output_type": "stream",
     "text": [
      "Epoch [1/30], Averge Loss:for epoch[1, 1.9793]\n",
      "Epoch [2/30], Averge Loss:for epoch[2, 1.9217]\n",
      "Epoch [3/30], Averge Loss:for epoch[3, 1.9143]\n",
      "Epoch [4/30], Averge Loss:for epoch[4, 1.9092]\n",
      "Epoch [5/30], Averge Loss:for epoch[5, 1.9027]\n",
      "Epoch [6/30], Averge Loss:for epoch[6, 1.9002]\n",
      "Epoch [7/30], Averge Loss:for epoch[7, 1.8993]\n",
      "Epoch [8/30], Averge Loss:for epoch[8, 1.8983]\n",
      "Epoch [9/30], Averge Loss:for epoch[9, 1.8988]\n",
      "Epoch [10/30], Averge Loss:for epoch[10, 1.8972]\n",
      "Epoch [11/30], Averge Loss:for epoch[11, 1.8939]\n",
      "Epoch [12/30], Averge Loss:for epoch[12, 1.8953]\n",
      "Epoch [13/30], Averge Loss:for epoch[13, 1.8909]\n",
      "Epoch [14/30], Averge Loss:for epoch[14, 1.8920]\n",
      "Epoch [15/30], Averge Loss:for epoch[15, 1.8914]\n",
      "Epoch [16/30], Averge Loss:for epoch[16, 1.8878]\n",
      "Epoch [17/30], Averge Loss:for epoch[17, 1.8886]\n",
      "Epoch [18/30], Averge Loss:for epoch[18, 1.8890]\n",
      "Epoch [19/30], Averge Loss:for epoch[19, 1.8892]\n",
      "Epoch [20/30], Averge Loss:for epoch[20, 1.8893]\n",
      "Epoch [21/30], Averge Loss:for epoch[21, 1.8869]\n",
      "Epoch [22/30], Averge Loss:for epoch[22, 1.8907]\n",
      "Epoch [23/30], Averge Loss:for epoch[23, 1.8925]\n",
      "Epoch [24/30], Averge Loss:for epoch[24, 1.8859]\n",
      "Epoch [25/30], Averge Loss:for epoch[25, 1.8890]\n",
      "Epoch [26/30], Averge Loss:for epoch[26, 1.8893]\n",
      "Epoch [27/30], Averge Loss:for epoch[27, 1.8867]\n",
      "Epoch [28/30], Averge Loss:for epoch[28, 1.8893]\n",
      "Epoch [29/30], Averge Loss:for epoch[29, 1.8891]\n",
      "Epoch [30/30], Averge Loss:for epoch[30, 1.8865]\n"
     ]
    }
   ],
   "source": [
    "# N is batch size; D_in is input dimension;\n",
    "# H is hidden dimension; D_out is output dimension.\n",
    "N, D_in, H, D_out = batch_size, input_size, 200, 10\n",
    "num_epochs = 30\n",
    "\n",
    "# Create random Tensors to hold inputs and outputs\n",
    "x = torch.randn(N, D_in)\n",
    "y = torch.randn(N, D_out)\n",
    "\n",
    "# Construct our model by instantiating the class defined above\n",
    "model2 = SevenLayerFC_NoRelu_Net(D_in, H, D_out)\n",
    "#print(model)\n",
    "\n",
    "# Construct our loss function and an Optimizer. The call to model.parameters()\n",
    "# in the SGD constructor will contain the learnable parameters of the two\n",
    "# nn.Linear modules which are members of the model.\n",
    "criterion = torch.nn.CrossEntropyLoss()\n",
    "optimizer = torch.optim.SGD(model2.parameters(), lr=0.01, momentum=0.9)\n",
    "\n",
    "for epoch in range(num_epochs):\n",
    "    avg_loss_epoch = 0\n",
    "    batch_loss = 0\n",
    "    total_batches = 0\n",
    "\n",
    "    for i, (images, labels) in enumerate(train_loader):\n",
    "        # Reshape images to (batch_size, input_size)\n",
    "\n",
    "        images = images.reshape(-1, 32*32*3)            \n",
    "\n",
    "        #print(images.shape)\n",
    "        outputs = model2(images)\n",
    "\n",
    "        loss = criterion(outputs, labels)    \n",
    "        \n",
    "        # Backward and optimize\n",
    "        optimizer.zero_grad()\n",
    "        loss.backward()\n",
    "        optimizer.step()   \n",
    "\n",
    "        total_batches += 1     \n",
    "        batch_loss += loss.item()\n",
    "\n",
    "    avg_loss_epoch = batch_loss/total_batches\n",
    "    print ('Epoch [{}/{}], Averge Loss:for epoch[{}, {:.4f}]' \n",
    "                   .format(epoch+1, num_epochs, epoch+1, avg_loss_epoch ))\n",
    "\n"
   ]
  },
  {
   "cell_type": "code",
   "execution_count": 13,
   "metadata": {},
   "outputs": [
    {
     "name": "stderr",
     "output_type": "stream",
     "text": [
      "C:\\Users\\anupams\\AppData\\Local\\Continuum\\anaconda3\\envs\\myenv\\lib\\site-packages\\ipykernel_launcher.py:30: UserWarning: Implicit dimension choice for log_softmax has been deprecated. Change the call to include dim=X as an argument.\n"
     ]
    },
    {
     "name": "stdout",
     "output_type": "stream",
     "text": [
      "Accuracy of the network on the 10000 test images: 36 %\n"
     ]
    }
   ],
   "source": [
    "# Test the Model\n",
    "correct = 0.\n",
    "total = 0.\n",
    "for images, labels in test_loader:\n",
    "    images = images.reshape(-1, 3*32*32)\n",
    "    #print(labels)\n",
    "    outputs_test = model2(images)\n",
    "    _, predicted = torch.max(outputs_test.data, 1)\n",
    "    #print(predicted)\n",
    "    total += labels.size(0) \n",
    "    \n",
    "    correct += (predicted == labels).sum().item()\n",
    "    \n",
    "print('Accuracy of the network on the 10000 test images: %d %%' % (     100 * correct / total))\n",
    "       "
   ]
  },
  {
   "cell_type": "code",
   "execution_count": 2,
   "metadata": {},
   "outputs": [
    {
     "name": "stdout",
     "output_type": "stream",
     "text": [
      "Conv7Net(\n",
      "  (conv1): Conv2d(3, 64, kernel_size=(5, 5), stride=(1, 1), padding=(1, 1))\n",
      "  (conv2): Conv2d(64, 128, kernel_size=(5, 5), stride=(1, 1), padding=(1, 1))\n",
      "  (conv3): Conv2d(128, 64, kernel_size=(7, 7), stride=(1, 1))\n",
      "  (conv4): Conv2d(64, 16, kernel_size=(7, 7), stride=(1, 1))\n",
      "  (fc1): Linear(in_features=4096, out_features=2048, bias=True)\n",
      "  (fc2): Linear(in_features=2048, out_features=1024, bias=True)\n",
      "  (fc3): Linear(in_features=1024, out_features=10, bias=True)\n",
      ")\n",
      "14\n",
      "torch.Size([64, 3, 5, 5])\n"
     ]
    }
   ],
   "source": [
    "class Conv7Net(nn.Module):\n",
    "    def __init__(self):\n",
    "        super(Conv7Net, self).__init__()\n",
    "        #Layer 1 - Output dimension - 28*28*8\n",
    "        # Conv2d (input channel, output channel, kernel size)\n",
    "        self.conv1 = nn.Conv2d(3, 64, kernel_size=5, stride=1, padding=1)\n",
    "        #self.pool1 = nn.MaxPool2d(2,2)\n",
    "        \n",
    "        #Layer 2  - Output dimension - 24*24*16\n",
    "        self.conv2 = nn.Conv2d(64, 128, kernel_size=5, stride=1, padding=1)\n",
    "        #self.pool2 = nn.MaxPool2d(3)\n",
    "\n",
    "        #Layer 3  - Output dimension - 20*20*16\n",
    "        self.conv3 = nn.Conv2d(128, 64, 7)\n",
    "        #self.pool3 = nn.MaxPool2d(3)\n",
    "        \n",
    "        #Layer 4  - Output dimension - 16*16*16\n",
    "        self.conv4 = nn.Conv2d(64, 16, 7)\n",
    "        #self.pool4 = nn.MaxPool2d(3)\n",
    "        \n",
    "        #Layer 5, 6, and 7\n",
    "        self.fc1 = nn.Linear(16*16*16,2048)\n",
    "        self.fc2 = nn.Linear(2048,1024)\n",
    "        self.fc3 = nn.Linear(1024,10)\n",
    "    \n",
    "    def forward(self, input):\n",
    "        x = F.relu(self.conv1(input))\n",
    "        x = F.relu(self.conv2(x))\n",
    "        x = F.relu(self.conv3(x))\n",
    "        x = F.relu(self.conv4(x))\n",
    "                \n",
    "        #flatten the tensor for the FC\n",
    "        x = x.view(x.size(0), -1)\n",
    "        x = self.fc1(x)\n",
    "        x = self.fc2(x)\n",
    "        x = self.fc3(x)\n",
    "        return F.log_softmax(x, dim=1)  \n",
    "\n",
    "net = Conv7Net()\n",
    "print(net)\n",
    "params = list(net.parameters())\n",
    "print(len(params))\n",
    "print(params[0].size())  # conv1's .weight"
   ]
  },
  {
   "cell_type": "code",
   "execution_count": null,
   "metadata": {},
   "outputs": [],
   "source": []
  },
  {
   "cell_type": "code",
   "execution_count": 3,
   "metadata": {},
   "outputs": [
    {
     "ename": "KeyboardInterrupt",
     "evalue": "",
     "output_type": "error",
     "traceback": [
      "\u001b[1;31m---------------------------------------------------------------------------\u001b[0m",
      "\u001b[1;31mKeyboardInterrupt\u001b[0m                         Traceback (most recent call last)",
      "\u001b[1;32m<ipython-input-3-ff8bab97eb73>\u001b[0m in \u001b[0;36m<module>\u001b[1;34m()\u001b[0m\n\u001b[0;32m     28\u001b[0m         \u001b[1;31m# Backward and optimize\u001b[0m\u001b[1;33m\u001b[0m\u001b[1;33m\u001b[0m\u001b[0m\n\u001b[0;32m     29\u001b[0m         \u001b[0moptimizer\u001b[0m\u001b[1;33m.\u001b[0m\u001b[0mzero_grad\u001b[0m\u001b[1;33m(\u001b[0m\u001b[1;33m)\u001b[0m\u001b[1;33m\u001b[0m\u001b[0m\n\u001b[1;32m---> 30\u001b[1;33m         \u001b[0mloss\u001b[0m\u001b[1;33m.\u001b[0m\u001b[0mbackward\u001b[0m\u001b[1;33m(\u001b[0m\u001b[1;33m)\u001b[0m\u001b[1;33m\u001b[0m\u001b[0m\n\u001b[0m\u001b[0;32m     31\u001b[0m         \u001b[0moptimizer\u001b[0m\u001b[1;33m.\u001b[0m\u001b[0mstep\u001b[0m\u001b[1;33m(\u001b[0m\u001b[1;33m)\u001b[0m\u001b[1;33m\u001b[0m\u001b[0m\n\u001b[0;32m     32\u001b[0m \u001b[1;33m\u001b[0m\u001b[0m\n",
      "\u001b[1;32m~\\AppData\\Local\\Continuum\\anaconda3\\envs\\myenv\\lib\\site-packages\\torch\\tensor.py\u001b[0m in \u001b[0;36mbackward\u001b[1;34m(self, gradient, retain_graph, create_graph)\u001b[0m\n\u001b[0;32m    100\u001b[0m                 \u001b[0mproducts\u001b[0m\u001b[1;33m.\u001b[0m \u001b[0mDefaults\u001b[0m \u001b[0mto\u001b[0m\u001b[0;31m \u001b[0m\u001b[0;31m`\u001b[0m\u001b[0;31m`\u001b[0m\u001b[1;32mFalse\u001b[0m\u001b[0;31m`\u001b[0m\u001b[0;31m`\u001b[0m\u001b[1;33m.\u001b[0m\u001b[1;33m\u001b[0m\u001b[0m\n\u001b[0;32m    101\u001b[0m         \"\"\"\n\u001b[1;32m--> 102\u001b[1;33m         \u001b[0mtorch\u001b[0m\u001b[1;33m.\u001b[0m\u001b[0mautograd\u001b[0m\u001b[1;33m.\u001b[0m\u001b[0mbackward\u001b[0m\u001b[1;33m(\u001b[0m\u001b[0mself\u001b[0m\u001b[1;33m,\u001b[0m \u001b[0mgradient\u001b[0m\u001b[1;33m,\u001b[0m \u001b[0mretain_graph\u001b[0m\u001b[1;33m,\u001b[0m \u001b[0mcreate_graph\u001b[0m\u001b[1;33m)\u001b[0m\u001b[1;33m\u001b[0m\u001b[0m\n\u001b[0m\u001b[0;32m    103\u001b[0m \u001b[1;33m\u001b[0m\u001b[0m\n\u001b[0;32m    104\u001b[0m     \u001b[1;32mdef\u001b[0m \u001b[0mregister_hook\u001b[0m\u001b[1;33m(\u001b[0m\u001b[0mself\u001b[0m\u001b[1;33m,\u001b[0m \u001b[0mhook\u001b[0m\u001b[1;33m)\u001b[0m\u001b[1;33m:\u001b[0m\u001b[1;33m\u001b[0m\u001b[0m\n",
      "\u001b[1;32m~\\AppData\\Local\\Continuum\\anaconda3\\envs\\myenv\\lib\\site-packages\\torch\\autograd\\__init__.py\u001b[0m in \u001b[0;36mbackward\u001b[1;34m(tensors, grad_tensors, retain_graph, create_graph, grad_variables)\u001b[0m\n\u001b[0;32m     88\u001b[0m     Variable._execution_engine.run_backward(\n\u001b[0;32m     89\u001b[0m         \u001b[0mtensors\u001b[0m\u001b[1;33m,\u001b[0m \u001b[0mgrad_tensors\u001b[0m\u001b[1;33m,\u001b[0m \u001b[0mretain_graph\u001b[0m\u001b[1;33m,\u001b[0m \u001b[0mcreate_graph\u001b[0m\u001b[1;33m,\u001b[0m\u001b[1;33m\u001b[0m\u001b[0m\n\u001b[1;32m---> 90\u001b[1;33m         allow_unreachable=True)  # allow_unreachable flag\n\u001b[0m\u001b[0;32m     91\u001b[0m \u001b[1;33m\u001b[0m\u001b[0m\n\u001b[0;32m     92\u001b[0m \u001b[1;33m\u001b[0m\u001b[0m\n",
      "\u001b[1;31mKeyboardInterrupt\u001b[0m: "
     ]
    }
   ],
   "source": [
    "# Construct our model by instantiating the class defined above\n",
    "ConvModel = Conv7Net()\n",
    "num_epochs = 100\n",
    "#print(model)\n",
    "\n",
    "\n",
    "# Construct our loss function and an Optimizer. The call to model.parameters()\n",
    "# in the SGD constructor will contain the learnable parameters of the two\n",
    "# nn.Linear modules which are members of the model.\n",
    "criterion = torch.nn.CrossEntropyLoss()\n",
    "optimizer = torch.optim.SGD(ConvModel.parameters(), lr=0.001, momentum=0.9)\n",
    "\n",
    "for epoch in range(num_epochs):\n",
    "    avg_loss_epoch = 0\n",
    "    batch_loss = 0\n",
    "    total_batches = 0\n",
    "\n",
    "    for i, (images, labels) in enumerate(train_loader):\n",
    "        # Reshape images to (batch_size, input_size)\n",
    "\n",
    "        #images = images.reshape(-1, 32*32*3)            \n",
    "\n",
    "        #print(images.shape)\n",
    "        outputs = ConvModel(images)\n",
    "\n",
    "        loss = criterion(outputs, labels)    \n",
    "        \n",
    "        # Backward and optimize\n",
    "        optimizer.zero_grad()\n",
    "        loss.backward()\n",
    "        optimizer.step()   \n",
    "\n",
    "        total_batches += 1     \n",
    "        batch_loss += loss.item()\n",
    "\n",
    "    avg_loss_epoch = batch_loss/total_batches\n",
    "    print ('Epoch [{}/{}], Averge Loss:for epoch[{}, {:.4f}]' \n",
    "                   .format(epoch+1, num_epochs, epoch+1, avg_loss_epoch ))\n",
    "\n",
    "\n"
   ]
  },
  {
   "cell_type": "code",
   "execution_count": 3,
   "metadata": {},
   "outputs": [
    {
     "ename": "NameError",
     "evalue": "name 'ConvModel' is not defined",
     "output_type": "error",
     "traceback": [
      "\u001b[1;31m---------------------------------------------------------------------------\u001b[0m",
      "\u001b[1;31mNameError\u001b[0m                                 Traceback (most recent call last)",
      "\u001b[1;32m<ipython-input-3-90a8c33dcb02>\u001b[0m in \u001b[0;36m<module>\u001b[1;34m()\u001b[0m\n\u001b[1;32m----> 1\u001b[1;33m \u001b[0mtorch\u001b[0m\u001b[1;33m.\u001b[0m\u001b[0msave\u001b[0m\u001b[1;33m(\u001b[0m\u001b[0mConvModel\u001b[0m\u001b[1;33m,\u001b[0m \u001b[1;34m\"./models/ConvModel74\"\u001b[0m\u001b[1;33m)\u001b[0m\u001b[1;33m\u001b[0m\u001b[0m\n\u001b[0m\u001b[0;32m      2\u001b[0m \u001b[1;33m\u001b[0m\u001b[0m\n\u001b[0;32m      3\u001b[0m \u001b[1;31m# Then later:\u001b[0m\u001b[1;33m\u001b[0m\u001b[1;33m\u001b[0m\u001b[0m\n\u001b[0;32m      4\u001b[0m \u001b[1;31m#ConvModel = torch.load(\"./models/ConvModel\")\u001b[0m\u001b[1;33m\u001b[0m\u001b[1;33m\u001b[0m\u001b[0m\n\u001b[0;32m      5\u001b[0m state = {\n",
      "\u001b[1;31mNameError\u001b[0m: name 'ConvModel' is not defined"
     ]
    }
   ],
   "source": [
    "torch.save(ConvModel, \"./models/ConvModel74\")\n",
    "\n",
    "# Then later:\n",
    "#ConvModel = torch.load(\"./models/ConvModel\")\n",
    "state = {\n",
    "    'epoch': num_epochs,\n",
    "    'state_dict': ConvModel.state_dict(),\n",
    "    'optimizer': optimizer.state_dict(),\n",
    "   }\n",
    "torch.save(state, \"./models/ConvModelStateDict74\")\n",
    "\n",
    "#To resume training you would do things like: state = torch.load(filepath), and then, \n",
    "#o restore the state of each individual object, something like this:\n",
    "#ConvModel.load_state_dict(state['state_dict'])\n",
    "#optimizer.load_state_dict(state['optimizer'])"
   ]
  },
  {
   "cell_type": "code",
   "execution_count": 17,
   "metadata": {},
   "outputs": [
    {
     "name": "stdout",
     "output_type": "stream",
     "text": [
      "Accuracy of the network on the 10000 test images: 74 %\n"
     ]
    }
   ],
   "source": [
    "# Test the Model\n",
    "correct = 0.\n",
    "total = 0.\n",
    "predicted = 0.\n",
    "for images, labels in test_loader:\n",
    "    #images = images.reshape(-1, 3*32*32)\n",
    "    #print(labels)\n",
    "    outputs_Conv_test = ConvModel(images)\n",
    "    _, predicted = torch.max(outputs_Conv_test.data, 1)\n",
    "    #print(predicted)\n",
    "    total += labels.size(0) \n",
    "    \n",
    "    correct += (predicted == labels).sum().item()\n",
    "    \n",
    "print('Accuracy of the network on the 10000 test images: %d %%' % (     100 * correct / total))\n",
    "       "
   ]
  },
  {
   "cell_type": "code",
   "execution_count": 14,
   "metadata": {},
   "outputs": [
    {
     "name": "stdout",
     "output_type": "stream",
     "text": [
      "cuda:0\n"
     ]
    }
   ],
   "source": [
    "device = torch.device(\"cuda:0\" if torch.cuda.is_available() else \"cpu\")\n",
    "print(device)"
   ]
  },
  {
   "cell_type": "code",
   "execution_count": null,
   "metadata": {},
   "outputs": [],
   "source": []
  }
 ],
 "metadata": {
  "kernelspec": {
   "display_name": "Python 3",
   "language": "python",
   "name": "python3"
  },
  "language_info": {
   "codemirror_mode": {
    "name": "ipython",
    "version": 3
   },
   "file_extension": ".py",
   "mimetype": "text/x-python",
   "name": "python",
   "nbconvert_exporter": "python",
   "pygments_lexer": "ipython3",
   "version": "3.6.5"
  }
 },
 "nbformat": 4,
 "nbformat_minor": 2
}
